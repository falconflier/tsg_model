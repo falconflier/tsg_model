{
 "cells": [
  {
   "cell_type": "code",
   "execution_count": 36,
   "id": "quarterly-adjustment",
   "metadata": {},
   "outputs": [],
   "source": [
    "from functools import partial\n",
    "\n",
    "import numpy as np\n",
    "import pandas as pd\n",
    "import os\n",
    "import random\n",
    "import time\n",
    "\n",
    "import tensorflow as tf, re, math\n",
    "from tensorflow.keras import applications\n",
    "from tensorflow.keras import layers\n",
    "from tensorflow.keras import losses\n",
    "from tensorflow.keras import optimizers\n",
    "from tensorflow.keras import metrics\n",
    "from tensorflow.keras import Model, Sequential\n",
    "from tensorflow.keras import backend as K \n",
    "from sklearn.model_selection import train_test_split\n",
    "from sklearn.preprocessing import StandardScaler, MinMaxScaler\n",
    "from matplotlib import pyplot as plt\n",
    "import gc\n",
    "import uproot"
   ]
  },
  {
   "cell_type": "markdown",
   "id": "computational-register",
   "metadata": {},
   "source": [
    "### Getting the data"
   ]
  },
  {
   "cell_type": "code",
   "execution_count": 9,
   "id": "economic-western",
   "metadata": {},
   "outputs": [
    {
     "name": "stdout",
     "output_type": "stream",
     "text": [
      "(376907, 69)\n",
      "next data has shape (353590, 69)\n",
      "next data has shape (340485, 69)\n",
      "next data has shape (74979, 69)\n",
      "next data has shape (361458, 69)\n",
      "next data has shape (399367, 69)\n",
      "X has shape (1906786, 69)\n"
     ]
    }
   ],
   "source": [
    "def get_df(root_file_name, filter_name):\n",
    "    events = uproot.open(root_file_name, filter_name=filter_name)[\"tree\"]\n",
    "    df = events.arrays(library=\"pd\")\n",
    "    return df\n",
    "\n",
    "features = []\n",
    "# variables: general\n",
    "features += ['FatJet_pt', 'FatJet_eta', 'FatJet_phi', 'FatJet_DDX_jetNSecondaryVertices', \\\n",
    "             'FatJet_DDX_jetNTracks', 'FatJet_DDX_z_ratio', 'FatJet_Proba', 'FatJet_area', \\\n",
    "             'FatJet_jetId', 'FatJet_lsf3', 'FatJet_rawFactor', 'FatJet_n2b1', 'FatJet_n3b1', \\\n",
    "            ]\n",
    "\n",
    "# variables: tau1\n",
    "features += ['FatJet_tau1', 'FatJet_DDX_tau1_flightDistance2dSig', 'FatJet_DDX_tau1_trackEtaRel_0', \\\n",
    "             'FatJet_DDX_tau1_trackEtaRel_1', 'FatJet_DDX_tau1_trackEtaRel_2', 'FatJet_DDX_tau1_trackSip3dSig_0', \\\n",
    "             'FatJet_DDX_tau1_trackSip3dSig_1', 'FatJet_DDX_tau1_vertexDeltaR', 'FatJet_DDX_tau1_vertexEnergyRatio', \\\n",
    "            ]\n",
    "\n",
    "# variables: tau2\n",
    "features += ['FatJet_tau2', 'FatJet_DDX_tau2_flightDistance2dSig', 'FatJet_DDX_tau2_trackEtaRel_0', \\\n",
    "             'FatJet_DDX_tau2_trackEtaRel_1', 'FatJet_DDX_tau2_trackEtaRel_3', 'FatJet_DDX_tau2_trackSip3dSig_0', \\\n",
    "             'FatJet_DDX_tau2_trackSip3dSig_1', 'FatJet_DDX_tau2_vertexEnergyRatio', \\\n",
    "            ]\n",
    "\n",
    "# variables: tau3 and tau4\n",
    "features += ['FatJet_tau3', 'FatJet_tau4',]\n",
    "\n",
    "# variables: track\n",
    "features += ['FatJet_DDX_trackSip2dSigAboveBottom_0', 'FatJet_DDX_trackSip2dSigAboveBottom_1', \\\n",
    "             'FatJet_DDX_trackSip2dSigAboveCharm', 'FatJet_DDX_trackSip3dSig_0', \\\n",
    "             'FatJet_DDX_trackSip3dSig_1', 'FatJet_DDX_trackSip3dSig_2', 'FatJet_DDX_trackSip3dSig_3', \\\n",
    "            ]\n",
    "\n",
    "# variables: subjet 1\n",
    "features += ['FatJet_subjet1_pt', 'FatJet_subjet1_eta', 'FatJet_subjet1_phi', \\\n",
    "             'FatJet_subjet1_Proba', 'FatJet_subjet1_tau1', 'FatJet_subjet1_tau2', \\\n",
    "             'FatJet_subjet1_tau3', 'FatJet_subjet1_tau4', 'FatJet_subjet1_n2b1', 'FatJet_subjet1_n3b1', \\\n",
    "            ]\n",
    "\n",
    "# variables: subjet 2\n",
    "features += ['FatJet_subjet2_pt', 'FatJet_subjet2_eta', 'FatJet_subjet2_phi', \\\n",
    "             'FatJet_subjet2_Proba', 'FatJet_subjet2_tau1', 'FatJet_subjet2_tau2', \\\n",
    "             'FatJet_subjet2_tau3', 'FatJet_subjet2_tau4', 'FatJet_subjet2_n2b1', 'FatJet_subjet2_n3b1', \\\n",
    "            ]\n",
    "\n",
    "# variables: fatjet sv\n",
    "features += ['FatJet_sv_costhetasvpv', 'FatJet_sv_d3dsig', 'FatJet_sv_deltaR', 'FatJet_sv_dxysig', \\\n",
    "             'FatJet_sv_enration', 'FatJet_sv_normchi2', 'FatJet_sv_ntracks', 'FatJet_sv_phirel', \\\n",
    "             'FatJet_sv_pt', 'FatJet_sv_ptrel', \\\n",
    "            ]\n",
    "\n",
    "features = sorted(features)\n",
    "\n",
    "root_dir = \"/eos/user/a/afriberg/datasets/QCD_samples/\"\n",
    "\n",
    "dirs = os.listdir(root_dir)\n",
    "\n",
    "first_file = dirs.pop(0)\n",
    "while \".root\" not in first_file:\n",
    "    first_file = dirs.pop(0)\n",
    "\n",
    "first_file = root_dir + first_file\n",
    "df = get_df(first_file, '*')\n",
    "# Select a particular type of particle 0 means QCD\n",
    "df.query(\"FatJet_gen_hadronFlavour == 0\", inplace=True)\n",
    "df.dropna(inplace=True)\n",
    "df = df[features]\n",
    "# Prior to this, df is a pandas dataframe\n",
    "X = df.to_numpy().astype(np.float32)\n",
    "print(np.shape(X))\n",
    "\n",
    "\n",
    "for inputfile in dirs:\n",
    "    if \".root\" not in inputfile:\n",
    "        continue\n",
    "    inputfile = root_dir + inputfile\n",
    "    df = get_df(inputfile, '*')\n",
    "    df.dropna(inplace=True)\n",
    "    df = df[features]\n",
    "    # Prior to this, df is a pandas dataframe\n",
    "    next_data = df.to_numpy().astype(np.float32)\n",
    "    print(f\"next data has shape {np.shape(next_data)}\")\n",
    "    # appending it to the whole thing\n",
    "    X = np.append(X, next_data, axis=0)\n",
    "\n",
    "print(f\"X has shape {np.shape(X)}\")"
   ]
  },
  {
   "cell_type": "markdown",
   "id": "controversial-dispatch",
   "metadata": {},
   "source": [
    "# Run this when you want to add HToBB Data to the tests"
   ]
  },
  {
   "cell_type": "code",
   "execution_count": 10,
   "id": "relevant-documentary",
   "metadata": {},
   "outputs": [],
   "source": [
    "new_path = \"/eos/user/a/afriberg/datasets/has_B/ZH_HToBB_ZToLL_M125_13TeV_powheg_pythia8.root\"\n",
    "df = get_df(new_path, '*')\n",
    "# Select a particular type of particle 4 means Charm 5 means B quark?\n",
    "df.query(\"FatJet_gen_hadronFlavour == 5\", inplace=True)\n",
    "\n",
    "df.dropna(inplace=True)\n",
    "df = df[features]\n",
    "\n",
    "new_X = df.to_numpy()\n",
    "new_X = new_X.astype(\"float32\")"
   ]
  },
  {
   "cell_type": "markdown",
   "id": "regional-connecticut",
   "metadata": {},
   "source": [
    "This scales the HToBB data and the QCD data together, and then splits them in two parts afterwards"
   ]
  },
  {
   "cell_type": "code",
   "execution_count": 11,
   "id": "grave-costs",
   "metadata": {},
   "outputs": [
    {
     "name": "stdout",
     "output_type": "stream",
     "text": [
      "new_X has shape (23350, 69)\n",
      "X has shape (1930136, 69)\n",
      "X now has shape (1906786, 69)\n",
      " new_X now has shape (23350, 69)\n"
     ]
    }
   ],
   "source": [
    "num_new = np.size(new_X, axis=0)\n",
    "X = np.append(X, new_X, axis=0)\n",
    "print(f\"new_X has shape {np.shape(new_X)}\\nX has shape {np.shape(X)}\")\n",
    "# print(np.allclose(X[-num_new:, :], new_X))\n",
    "\n",
    "# Scale our data using a MinMaxScaler that will scale\n",
    "# each number so that it will be between 0 and 1\n",
    "scaler = MinMaxScaler()\n",
    "data = scaler.fit_transform(X)\n",
    "new_X = data[-num_new:, :]\n",
    "X = data[:-num_new, :]\n",
    "\n",
    "print(f\"X now has shape {np.shape(X)}\\n new_X now has shape {np.shape(new_X)}\")"
   ]
  },
  {
   "cell_type": "markdown",
   "id": "innovative-omaha",
   "metadata": {},
   "source": [
    "## Run this regardless of presence or lack of HToBB data"
   ]
  },
  {
   "cell_type": "code",
   "execution_count": 12,
   "id": "massive-vietnam",
   "metadata": {},
   "outputs": [
    {
     "name": "stdout",
     "output_type": "stream",
     "text": [
      "69\n"
     ]
    }
   ],
   "source": [
    "x_train, x_test = train_test_split(data, test_size=0.20)\n",
    "original_dim = np.size(data, axis=1)\n",
    "print(original_dim)"
   ]
  },
  {
   "cell_type": "code",
   "execution_count": 13,
   "id": "dental-breakdown",
   "metadata": {},
   "outputs": [],
   "source": [
    "batch_size = 32\n",
    "\n",
    "def build_dset(df): \n",
    "    df = df.copy()\n",
    "    dataset = tf.data.Dataset.from_tensor_slices((df, df))\n",
    "    dataset = dataset.batch(batch_size, drop_remainder=True)\n",
    "    dataset = dataset.prefetch(tf.data.experimental.AUTOTUNE)\n",
    "    return dataset\n",
    "    \n",
    "x_train_dataset = build_dset(x_train)\n",
    "x_test_dataset = build_dset(x_test)"
   ]
  },
  {
   "cell_type": "markdown",
   "id": "silent-argument",
   "metadata": {},
   "source": [
    "### Sampling Layer"
   ]
  },
  {
   "cell_type": "code",
   "execution_count": 14,
   "id": "aggregate-galaxy",
   "metadata": {},
   "outputs": [],
   "source": [
    "class Sampling(layers.Layer):\n",
    "    \"\"\"Uses (z_mean, z_log_var) to sample z, the vector encoding a digit.\"\"\"\n",
    "\n",
    "    def call(self, inputs):\n",
    "        z_mean, z_log_var = inputs\n",
    "        batch = tf.shape(z_mean)[0]\n",
    "        dim = tf.shape(z_mean)[1]\n",
    "        epsilon = tf.keras.backend.random_normal(shape=(batch, dim))\n",
    "        return z_mean + tf.exp(0.5 * z_log_var) * epsilon"
   ]
  },
  {
   "cell_type": "markdown",
   "id": "referenced-disney",
   "metadata": {},
   "source": [
    "## Defining the encoder and decoder functionally"
   ]
  },
  {
   "cell_type": "code",
   "execution_count": 24,
   "id": "empty-fleece",
   "metadata": {},
   "outputs": [],
   "source": [
    "def get_encoder(original_dim, intermediate_dim_1, intermediate_dim_2, latent_dim):\n",
    "    # Encoder\n",
    "    encoder_inputs = layers.Input(shape=(original_dim,))\n",
    "    h = layers.Dense(intermediate_dim_1)(encoder_inputs)\n",
    "    h = layers.PReLU(alpha_initializer=tf.keras.initializers.Constant(value=0.25))(h)\n",
    "    h = layers.BatchNormalization()(h)\n",
    "    h = layers.Dropout(0.2)(h)\n",
    "    h = layers.Dense(intermediate_dim_2)(h)\n",
    "    h = layers.PReLU(alpha_initializer=tf.keras.initializers.Constant(value=0.25))(h)\n",
    "    h = layers.BatchNormalization()(h)\n",
    "    h = layers.Dropout(0.2)(h)\n",
    "    z_mu = layers.Dense(latent_dim, name=\"z_mean\")(h)\n",
    "    z_log_var = layers.Dense(latent_dim, name=\"z_log_var\")(h)\n",
    "\n",
    "    z = Sampling()([z_mu, z_log_var])\n",
    "    encoder = Model(encoder_inputs, [z_mu, z_log_var, z], name=\"encoder\")\n",
    "    return encoder  \n",
    "    \n",
    "def get_decoder(original_dim, intermediate_dim_1, intermediate_dim_2, latent_dim):\n",
    "    decoder_inputs = layers.Input(shape=(latent_dim,))\n",
    "    d = layers.Dense(intermediate_dim_2)(decoder_inputs)\n",
    "    d = layers.PReLU(alpha_initializer=tf.keras.initializers.Constant(value=0.25))(d)\n",
    "    d = layers.BatchNormalization()(d)\n",
    "    d = layers.Dropout(0.2)(d)\n",
    "    d = layers.Dense(intermediate_dim_1)(d)\n",
    "    d = layers.PReLU(alpha_initializer=tf.keras.initializers.Constant(value=0.25))(d)\n",
    "    d = layers.BatchNormalization()(d)\n",
    "    d = layers.Dropout(0.2)(d)\n",
    "    d = layers.Dense(original_dim, activation=\"softmax\")(d)\n",
    "    decoder = Model(decoder_inputs, d, name=\"decoder\")\n",
    "    return decoder"
   ]
  },
  {
   "cell_type": "markdown",
   "id": "marine-holly",
   "metadata": {},
   "source": [
    "### Defining the class"
   ]
  },
  {
   "cell_type": "code",
   "execution_count": 25,
   "id": "atomic-clark",
   "metadata": {},
   "outputs": [],
   "source": [
    "class VAE(keras.Model):\n",
    "    def __init__(self, encoder, decoder, **kwargs):\n",
    "        super(VAE, self).__init__(**kwargs)\n",
    "        self.encoder = encoder\n",
    "        self.decoder = decoder\n",
    "        self.total_loss_tracker = keras.metrics.Mean(name=\"total_loss\")\n",
    "        self.reconstruction_loss_tracker = keras.metrics.Mean(\n",
    "            name=\"reconstruction_loss\"\n",
    "        )\n",
    "        self.kl_loss_tracker = keras.metrics.Mean(name=\"kl_loss\")\n",
    "        \n",
    "        self.encoder.summary()\n",
    "        self.decoder.summary()\n",
    "\n",
    "    @property\n",
    "    def metrics(self):\n",
    "        return [\n",
    "            self.total_loss_tracker,\n",
    "            self.reconstruction_loss_tracker,\n",
    "            self.kl_loss_tracker,\n",
    "        ]\n",
    "\n",
    "    # This was replaced from the orginal by using Otto's model\n",
    "    def train_step(self, data):\n",
    "        with tf.GradientTape() as tape:\n",
    "            z_mean, z_log_var, z = self.encoder(data)\n",
    "            reconstruction = self.decoder(z)\n",
    "            reconstruction_loss = tf.reduce_mean(\n",
    "                tf.reduce_sum(\n",
    "                    tf.keras.losses.binary_crossentropy(data, reconstruction), axis=-1\n",
    "                )\n",
    "            )\n",
    "            kl_loss = -0.5 * (1 + z_log_var - tf.square(z_mean) - tf.exp(z_log_var))\n",
    "            kl_loss = tf.reduce_mean(tf.reduce_sum(kl_loss, axis=1))\n",
    "            total_loss = reconstruction_loss + kl_loss\n",
    "        grads = tape.gradient(total_loss, self.encoder.trainable_weights + self.decoder.trainable_weights)\n",
    "        self.optimizer.apply_gradients(zip(grads, self.encoder.trainable_weights + self.decoder.trainable_weights))\n",
    "        self.total_loss_tracker.update_state(total_loss)\n",
    "        self.reconstruction_loss_tracker.update_state(reconstruction_loss)\n",
    "        self.kl_loss_tracker.update_state(kl_loss)\n",
    "        return {\n",
    "            \"loss\": self.total_loss_tracker.result(),\n",
    "            \"reconstruction_loss\": self.reconstruction_loss_tracker.result(),\n",
    "            \"kl_loss\": self.kl_loss_tracker.result(),\n",
    "        }\n",
    "    \n",
    "    def call(self, data):\n",
    "        z_mean, z_log_var, z = self.encoder(data)\n",
    "        y_pred = self.decoder(z)\n",
    "        return y_pred "
   ]
  },
  {
   "cell_type": "markdown",
   "id": "referenced-handy",
   "metadata": {},
   "source": [
    "### Compiling the model and training it"
   ]
  },
  {
   "cell_type": "code",
   "execution_count": 26,
   "id": "contained-makeup",
   "metadata": {
    "scrolled": false
   },
   "outputs": [
    {
     "name": "stdout",
     "output_type": "stream",
     "text": [
      "Model: \"encoder\"\n",
      "__________________________________________________________________________________________________\n",
      "Layer (type)                    Output Shape         Param #     Connected to                     \n",
      "==================================================================================================\n",
      "input_7 (InputLayer)            [(None, 69)]         0                                            \n",
      "__________________________________________________________________________________________________\n",
      "dense_15 (Dense)                (None, 32)           2240        input_7[0][0]                    \n",
      "__________________________________________________________________________________________________\n",
      "p_re_lu_12 (PReLU)              (None, 32)           32          dense_15[0][0]                   \n",
      "__________________________________________________________________________________________________\n",
      "batch_normalization_12 (BatchNo (None, 32)           128         p_re_lu_12[0][0]                 \n",
      "__________________________________________________________________________________________________\n",
      "dropout_12 (Dropout)            (None, 32)           0           batch_normalization_12[0][0]     \n",
      "__________________________________________________________________________________________________\n",
      "dense_16 (Dense)                (None, 16)           528         dropout_12[0][0]                 \n",
      "__________________________________________________________________________________________________\n",
      "p_re_lu_13 (PReLU)              (None, 16)           16          dense_16[0][0]                   \n",
      "__________________________________________________________________________________________________\n",
      "batch_normalization_13 (BatchNo (None, 16)           64          p_re_lu_13[0][0]                 \n",
      "__________________________________________________________________________________________________\n",
      "dropout_13 (Dropout)            (None, 16)           0           batch_normalization_13[0][0]     \n",
      "__________________________________________________________________________________________________\n",
      "z_mean (Dense)                  (None, 2)            34          dropout_13[0][0]                 \n",
      "__________________________________________________________________________________________________\n",
      "z_log_var (Dense)               (None, 2)            34          dropout_13[0][0]                 \n",
      "__________________________________________________________________________________________________\n",
      "sampling_3 (Sampling)           (None, 2)            0           z_mean[0][0]                     \n",
      "                                                                 z_log_var[0][0]                  \n",
      "==================================================================================================\n",
      "Total params: 3,076\n",
      "Trainable params: 2,980\n",
      "Non-trainable params: 96\n",
      "__________________________________________________________________________________________________\n",
      "Model: \"decoder\"\n",
      "_________________________________________________________________\n",
      "Layer (type)                 Output Shape              Param #   \n",
      "=================================================================\n",
      "input_8 (InputLayer)         [(None, 2)]               0         \n",
      "_________________________________________________________________\n",
      "dense_17 (Dense)             (None, 16)                48        \n",
      "_________________________________________________________________\n",
      "p_re_lu_14 (PReLU)           (None, 16)                16        \n",
      "_________________________________________________________________\n",
      "batch_normalization_14 (Batc (None, 16)                64        \n",
      "_________________________________________________________________\n",
      "dropout_14 (Dropout)         (None, 16)                0         \n",
      "_________________________________________________________________\n",
      "dense_18 (Dense)             (None, 32)                544       \n",
      "_________________________________________________________________\n",
      "p_re_lu_15 (PReLU)           (None, 32)                32        \n",
      "_________________________________________________________________\n",
      "batch_normalization_15 (Batc (None, 32)                128       \n",
      "_________________________________________________________________\n",
      "dropout_15 (Dropout)         (None, 32)                0         \n",
      "_________________________________________________________________\n",
      "dense_19 (Dense)             (None, 69)                2277      \n",
      "=================================================================\n",
      "Total params: 3,109\n",
      "Trainable params: 3,013\n",
      "Non-trainable params: 96\n",
      "_________________________________________________________________\n"
     ]
    }
   ],
   "source": [
    "latent_dim = 2\n",
    "dim1 = 32\n",
    "dim2 = 16\n",
    "encoder = get_encoder(original_dim, dim1, dim2, latent_dim)\n",
    "decoder = get_decoder(original_dim, dim1, dim2, latent_dim)\n",
    "vae = VAE(encoder, decoder)\n",
    "vae.compile(optimizer=\"adam\")"
   ]
  },
  {
   "cell_type": "code",
   "execution_count": 27,
   "id": "designed-sheriff",
   "metadata": {},
   "outputs": [
    {
     "name": "stdout",
     "output_type": "stream",
     "text": [
      "Epoch 1/20\n",
      "48253/48253 [==============================] - 188s 4ms/step - loss: 89.8093 - reconstruction_loss: 89.7803 - kl_loss: 3.4929e-04\n",
      "Epoch 2/20\n",
      "48253/48253 [==============================] - 187s 4ms/step - loss: 89.7752 - reconstruction_loss: 89.7757 - kl_loss: 3.2962e-09\n",
      "Epoch 3/20\n",
      "48253/48253 [==============================] - 176s 4ms/step - loss: 89.7750 - reconstruction_loss: 89.7756 - kl_loss: 4.2028e-10\n",
      "Epoch 4/20\n",
      "48253/48253 [==============================] - 178s 4ms/step - loss: 89.7749 - reconstruction_loss: 89.7755 - kl_loss: 3.5386e-10\n",
      "Epoch 5/20\n",
      "48253/48253 [==============================] - 179s 4ms/step - loss: 89.7748 - reconstruction_loss: 89.7755 - kl_loss: 3.5672e-10\n",
      "Epoch 6/20\n",
      "48253/48253 [==============================] - 180s 4ms/step - loss: 89.7748 - reconstruction_loss: 89.7755 - kl_loss: 3.5234e-10\n",
      "Epoch 7/20\n",
      "48253/48253 [==============================] - 180s 4ms/step - loss: 89.7748 - reconstruction_loss: 89.7754 - kl_loss: 3.4545e-10\n",
      "Epoch 8/20\n",
      "48253/48253 [==============================] - 176s 4ms/step - loss: 89.7748 - reconstruction_loss: 89.7754 - kl_loss: 3.5687e-10\n",
      "Epoch 9/20\n",
      "48253/48253 [==============================] - 179s 4ms/step - loss: 89.7747 - reconstruction_loss: 89.7754 - kl_loss: 3.4836e-10\n",
      "Epoch 10/20\n",
      "48253/48253 [==============================] - 180s 4ms/step - loss: 89.7747 - reconstruction_loss: 89.7754 - kl_loss: 3.4753e-10\n",
      "Epoch 11/20\n",
      "48253/48253 [==============================] - 179s 4ms/step - loss: 89.7747 - reconstruction_loss: 89.7754 - kl_loss: 3.5436e-10\n",
      "Epoch 12/20\n",
      "48253/48253 [==============================] - 179s 4ms/step - loss: 89.7747 - reconstruction_loss: 89.7754 - kl_loss: 3.5556e-10\n",
      "Epoch 13/20\n",
      "48253/48253 [==============================] - 178s 4ms/step - loss: 89.7747 - reconstruction_loss: 89.7754 - kl_loss: 3.4886e-10\n",
      "Epoch 14/20\n",
      "48253/48253 [==============================] - 180s 4ms/step - loss: 89.7747 - reconstruction_loss: 89.7754 - kl_loss: 3.4967e-10\n",
      "Epoch 15/20\n",
      "48253/48253 [==============================] - 178s 4ms/step - loss: 89.7747 - reconstruction_loss: 89.7754 - kl_loss: 3.4990e-10\n",
      "Epoch 16/20\n",
      "48253/48253 [==============================] - 179s 4ms/step - loss: 89.7747 - reconstruction_loss: 89.7754 - kl_loss: 3.5643e-10\n",
      "Epoch 17/20\n",
      "48253/48253 [==============================] - 180s 4ms/step - loss: 89.7747 - reconstruction_loss: 89.7754 - kl_loss: 3.4879e-10\n",
      "Epoch 18/20\n",
      "48253/48253 [==============================] - 176s 4ms/step - loss: 89.7747 - reconstruction_loss: 89.7754 - kl_loss: 3.5494e-10\n",
      "Epoch 19/20\n",
      "48253/48253 [==============================] - 179s 4ms/step - loss: 89.7747 - reconstruction_loss: 89.7754 - kl_loss: 3.5052e-10\n",
      "Epoch 20/20\n",
      "48253/48253 [==============================] - 180s 4ms/step - loss: 89.7747 - reconstruction_loss: 89.7754 - kl_loss: 3.4307e-10\n"
     ]
    },
    {
     "data": {
      "text/plain": [
       "<tensorflow.python.keras.callbacks.History at 0x7f5b863faee0>"
      ]
     },
     "execution_count": 27,
     "metadata": {},
     "output_type": "execute_result"
    }
   ],
   "source": [
    "vae.fit(x_train_dataset, shuffle=True, epochs=20, batch_size=batch_size)"
   ]
  },
  {
   "cell_type": "markdown",
   "id": "outstanding-bidder",
   "metadata": {},
   "source": [
    "# Errors and such"
   ]
  },
  {
   "cell_type": "code",
   "execution_count": 29,
   "id": "arbitrary-monaco",
   "metadata": {},
   "outputs": [
    {
     "name": "stdout",
     "output_type": "stream",
     "text": [
      "(386028,)\n"
     ]
    },
    {
     "data": {
      "image/png": "[encoded data removed]",
      "text/plain": [
       "<Figure size 432x288 with 1 Axes>"
      ]
     },
     "metadata": {
      "needs_background": "light"
     },
     "output_type": "display_data"
    }
   ],
   "source": [
    "predict = vae.predict(x_test)\n",
    "err = np.mean(np.abs(predict - x_test), axis=1)\n",
    "print(np.shape(err))\n",
    "\n",
    "bins = np.linspace(0, 0.4, 1000)\n",
    "# plt.hist(err, density=True)\n",
    "plt.hist(err, density=True, bins=bins)\n",
    "plt.xlabel(\"Mean Absolute Error\")\n",
    "plt.ylabel(\"Number of events (density)\")\n",
    "# Getting the name of the file we ran on\n",
    "plt.title(\"Aggregate QCD Data\")\n",
    "plt.show()"
   ]
  },
  {
   "cell_type": "code",
   "execution_count": 30,
   "id": "appointed-corruption",
   "metadata": {},
   "outputs": [
    {
     "name": "stdout",
     "output_type": "stream",
     "text": [
      "(386028, 69)\n"
     ]
    },
    {
     "data": {
      "image/png": "[encoded data removed]",
      "text/plain": [
       "<Figure size 432x288 with 1 Axes>"
      ]
     },
     "metadata": {
      "needs_background": "light"
     },
     "output_type": "display_data"
    },
    {
     "data": {
      "image/png": "[encoded data removed]",
      "text/plain": [
       "<Figure size 432x288 with 1 Axes>"
      ]
     },
     "metadata": {
      "needs_background": "light"
     },
     "output_type": "display_data"
    }
   ],
   "source": [
    "print(np.shape(x_test))\n",
    "feat_idx = features.index(\"FatJet_sv_enration\")\n",
    "plt.hist(x_test[:, feat_idx], bins=100)\n",
    "plt.show()\n",
    "y_test = np.rint(x_test[:, feat_idx]).astype(int)\n",
    "plt.hist(y_test, bins=100)\n",
    "plt.show()"
   ]
  },
  {
   "cell_type": "code",
   "execution_count": 32,
   "id": "saving-example",
   "metadata": {},
   "outputs": [],
   "source": [
    "from sklearn.metrics import roc_curve\n",
    "predict = vae.predict(x_test)\n",
    "mae_y_pred = np.mean(np.abs(predict - x_test), axis=1)\n",
    "sq_y_pred = np.mean(np.square(predict - x_test), axis=1)\n",
    "# Experimenting with new"
   ]
  },
  {
   "cell_type": "code",
   "execution_count": 33,
   "id": "generic-baker",
   "metadata": {},
   "outputs": [],
   "source": [
    "mae_fpr, mae_tpr, mae_threshold = roc_curve(y_test, mae_y_pred)\n",
    "sq_fpr, sq_tpr, sq_threshold = roc_curve(y_test, sq_y_pred)\n",
    "from sklearn.metrics import auc\n",
    "mae_auc = auc(mae_fpr, mae_tpr)\n",
    "sq_auc = auc(sq_fpr, sq_tpr)"
   ]
  },
  {
   "cell_type": "code",
   "execution_count": 34,
   "id": "metropolitan-pharmaceutical",
   "metadata": {},
   "outputs": [
    {
     "data": {
      "image/png": "[encoded data removed]",
      "text/plain": [
       "<Figure size 432x288 with 1 Axes>"
      ]
     },
     "metadata": {
      "needs_background": "light"
     },
     "output_type": "display_data"
    }
   ],
   "source": [
    "plt.figure(1)\n",
    "plt.plot([0, 1], [0, 1], 'k--')\n",
    "plt.plot(mae_fpr, mae_tpr, label=\"MAE\")\n",
    "plt.plot(sq_fpr, sq_tpr, label=\"Mean Square Error\")\n",
    "plt.xlabel('False positive rate')\n",
    "plt.ylabel('True positive rate')\n",
    "plt.title('ROC curve')\n",
    "plt.legend()\n",
    "plt.show()"
   ]
  },
  {
   "cell_type": "code",
   "execution_count": null,
   "id": "similar-split",
   "metadata": {},
   "outputs": [],
   "source": []
  }
 ],
 "metadata": {
  "kernelspec": {
   "display_name": "Python 3",
   "language": "python",
   "name": "python3"
  },
  "language_info": {
   "codemirror_mode": {
    "name": "ipython",
    "version": 3
   },
   "file_extension": ".py",
   "mimetype": "text/x-python",
   "name": "python",
   "nbconvert_exporter": "python",
   "pygments_lexer": "ipython3",
   "version": "3.8.6"
  }
 },
 "nbformat": 4,
 "nbformat_minor": 5
}
