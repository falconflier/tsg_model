{
 "cells": [
  {
   "cell_type": "markdown",
   "id": "substantial-desert",
   "metadata": {},
   "source": [
    "# import library"
   ]
  },
  {
   "cell_type": "code",
   "execution_count": 1,
   "id": "vocational-homeless",
   "metadata": {},
   "outputs": [],
   "source": [
    "from functools import partial\n",
    "\n",
    "import numpy as np\n",
    "import pandas as pd\n",
    "import os\n",
    "import random\n",
    "import time\n",
    "\n",
    "import tensorflow as tf, re, math\n",
    "from tensorflow.keras import applications\n",
    "from tensorflow.keras import layers\n",
    "from tensorflow.keras import losses\n",
    "from tensorflow.keras import optimizers\n",
    "from tensorflow.keras import metrics\n",
    "from tensorflow.keras import Model, Sequential\n",
    "from tensorflow.keras import backend as K\n",
    "\n",
    "from sklearn.metrics import roc_curve, auc\n",
    "from sklearn.model_selection import train_test_split\n",
    "from sklearn.preprocessing import StandardScaler, MinMaxScaler\n",
    "from matplotlib import pyplot as plt\n",
    "import gc\n",
    "import uproot"
   ]
  },
  {
   "cell_type": "markdown",
   "id": "paperback-spain",
   "metadata": {},
   "source": [
    "### Checking for TPUs"
   ]
  },
  {
   "cell_type": "code",
   "execution_count": 2,
   "id": "favorite-recall",
   "metadata": {},
   "outputs": [
    {
     "name": "stdout",
     "output_type": "stream",
     "text": [
      "Not connected to a TPU runtime. Using CPU/GPU strategy\n",
      "WARNING:tensorflow:There are non-GPU devices in `tf.distribute.Strategy`, not using nccl allreduce.\n",
      "INFO:tensorflow:Using MirroredStrategy with devices ('/job:localhost/replica:0/task:0/device:CPU:0',)\n",
      "/usr/bin/sh: nvidia-smi: command not found\n"
     ]
    }
   ],
   "source": [
    "try:\n",
    "    tpu = tf.distribute.cluster_resolver.TPUClusterResolver()  # TPU detection\n",
    "    print(\"Running on TPU \", tpu.cluster_spec().as_dict()[\"worker\"])\n",
    "    tf.config.experimental_connect_to_cluster(tpu)\n",
    "    tf.tpu.experimental.initialize_tpu_system(tpu)\n",
    "    strategy = tf.distribute.experimental.TPUStrategy(tpu)\n",
    "except ValueError:\n",
    "    print(\"Not connected to a TPU runtime. Using CPU/GPU strategy\")\n",
    "    strategy = tf.distribute.MirroredStrategy()\n",
    "    \n",
    "!nvidia-smi"
   ]
  },
  {
   "cell_type": "markdown",
   "id": "exposed-legend",
   "metadata": {},
   "source": [
    "### Loading the data"
   ]
  },
  {
   "cell_type": "code",
   "execution_count": 3,
   "id": "liked-registration",
   "metadata": {},
   "outputs": [],
   "source": [
    "# This is literally every feature that gets popped out of the ntuplizer\n",
    "def get_features():\n",
    "    return ['FatJet_pt', 'FatJet_eta', 'FatJet_phi', 'FatJet_DDX_jetNSecondaryVertices', 'FatJet_DDX_jetNTracks', 'FatJet_DDX_z_ratio', 'FatJet_Proba', 'FatJet_area', 'FatJet_jetId', 'FatJet_lsf3', 'FatJet_mass', 'FatJet_msoftdrop', 'FatJet_rawFactor', 'FatJet_n2b1', 'FatJet_n3b1', 'FatJet_tau1', 'FatJet_DDX_tau1_flightDistance2dSig', 'FatJet_DDX_tau1_trackEtaRel_0', 'FatJet_DDX_tau1_trackEtaRel_1', 'FatJet_DDX_tau1_trackEtaRel_2', 'FatJet_DDX_tau1_trackSip3dSig_0', 'FatJet_DDX_tau1_trackSip3dSig_1', 'FatJet_DDX_tau1_vertexDeltaR', 'FatJet_DDX_tau1_vertexEnergyRatio', 'FatJet_DDX_tau1_vertexMass', 'FatJet_tau2', 'FatJet_DDX_tau2_flightDistance2dSig', 'FatJet_DDX_tau2_trackEtaRel_0', 'FatJet_DDX_tau2_trackEtaRel_1', 'FatJet_DDX_tau2_trackEtaRel_3', 'FatJet_DDX_tau2_trackSip3dSig_0', 'FatJet_DDX_tau2_trackSip3dSig_1', 'FatJet_DDX_tau2_vertexEnergyRatio', 'FatJet_DDX_tau2_vertexMass', 'FatJet_tau3', 'FatJet_tau4', 'FatJet_DDX_trackSip2dSigAboveBottom_0', 'FatJet_DDX_trackSip2dSigAboveBottom_1', 'FatJet_DDX_trackSip2dSigAboveCharm', 'FatJet_DDX_trackSip3dSig_0', 'FatJet_DDX_trackSip3dSig_1', 'FatJet_DDX_trackSip3dSig_2', 'FatJet_DDX_trackSip3dSig_3', 'FatJet_subjet1_pt', 'FatJet_subjet1_eta', 'FatJet_subjet1_phi', 'FatJet_subjet1_Proba', 'FatJet_subjet1_mass', 'FatJet_subjet1_tau1', 'FatJet_subjet1_tau2', 'FatJet_subjet1_tau3', 'FatJet_subjet1_tau4', 'FatJet_subjet1_n2b1', 'FatJet_subjet1_n3b1', 'FatJet_subjet2_pt', 'FatJet_subjet2_eta', 'FatJet_subjet2_phi', 'FatJet_subjet2_Proba', 'FatJet_subjet2_mass', 'FatJet_subjet2_tau1', 'FatJet_subjet2_tau2', 'FatJet_subjet2_tau3', 'FatJet_subjet2_tau4', 'FatJet_subjet2_n2b1', 'FatJet_subjet2_n3b1', 'FatJet_hadronFlavour', 'FatJet_sv_costhetasvpv', 'FatJet_sv_d3dsig', 'FatJet_sv_deltaR', 'FatJet_sv_dxysig', 'FatJet_sv_enration', 'FatJet_sv_mass', 'FatJet_sv_normchi2', 'FatJet_sv_ntracks', 'FatJet_sv_phirel', 'FatJet_sv_pt', 'FatJet_sv_ptrel', 'FatJet_nFatJetPFCands', 'FatJet_pfcand_max_deltar', 'FatJet_pfcand_mean_deltar', 'FatJet_gen_pt', 'FatJet_gen_eta', 'FatJet_gen_phi', 'FatJet_gen_hadronFlavour']"
   ]
  },
  {
   "cell_type": "code",
   "execution_count": 4,
   "id": "informational-inventory",
   "metadata": {},
   "outputs": [
    {
     "name": "stdout",
     "output_type": "stream",
     "text": [
      "(376907, 59)\n",
      "next data has shape (353590, 59)\n",
      "next data has shape (340485, 59)\n",
      "next data has shape (74979, 59)\n",
      "next data has shape (361458, 59)\n",
      "next data has shape (399367, 59)\n",
      "X has shape (1906786, 59)\n"
     ]
    }
   ],
   "source": [
    "def get_df(root_file_name, filter_name):\n",
    "    events = uproot.open(root_file_name, filter_name=filter_name)[\"tree\"]\n",
    "    df = events.arrays(library=\"pd\")\n",
    "    return df\n",
    "\n",
    "features = []\n",
    "# variables: general\n",
    "features += ['FatJet_pt', 'FatJet_eta', 'FatJet_phi', 'FatJet_DDX_jetNSecondaryVertices', \\\n",
    "             'FatJet_DDX_jetNTracks', 'FatJet_DDX_z_ratio', 'FatJet_Proba', 'FatJet_area', \\\n",
    "             'FatJet_jetId', 'FatJet_lsf3', 'FatJet_rawFactor', 'FatJet_n2b1', 'FatJet_n3b1', \\\n",
    "            ]\n",
    "\n",
    "# variables: tau1\n",
    "features += ['FatJet_tau1', 'FatJet_DDX_tau1_flightDistance2dSig', 'FatJet_DDX_tau1_trackEtaRel_0', \\\n",
    "             'FatJet_DDX_tau1_trackEtaRel_1', 'FatJet_DDX_tau1_trackEtaRel_2', 'FatJet_DDX_tau1_trackSip3dSig_0', \\\n",
    "             'FatJet_DDX_tau1_trackSip3dSig_1', 'FatJet_DDX_tau1_vertexDeltaR', 'FatJet_DDX_tau1_vertexEnergyRatio', \\\n",
    "            ]\n",
    "\n",
    "# variables: tau2\n",
    "features += ['FatJet_tau2', 'FatJet_DDX_tau2_flightDistance2dSig', 'FatJet_DDX_tau2_trackEtaRel_0', \\\n",
    "             'FatJet_DDX_tau2_trackEtaRel_1', 'FatJet_DDX_tau2_trackEtaRel_3', 'FatJet_DDX_tau2_trackSip3dSig_0', \\\n",
    "             'FatJet_DDX_tau2_trackSip3dSig_1', 'FatJet_DDX_tau2_vertexEnergyRatio', \\\n",
    "            ]\n",
    "\n",
    "# variables: tau3 and tau4\n",
    "features += ['FatJet_tau3', 'FatJet_tau4',]\n",
    "\n",
    "# variables: track\n",
    "features += ['FatJet_DDX_trackSip2dSigAboveBottom_0', 'FatJet_DDX_trackSip2dSigAboveBottom_1', \\\n",
    "             'FatJet_DDX_trackSip2dSigAboveCharm', 'FatJet_DDX_trackSip3dSig_0', \\\n",
    "             'FatJet_DDX_trackSip3dSig_1', 'FatJet_DDX_trackSip3dSig_2', 'FatJet_DDX_trackSip3dSig_3', \\\n",
    "            ]\n",
    "\n",
    "# variables: subjet 1\n",
    "features += ['FatJet_subjet1_pt', 'FatJet_subjet1_eta', 'FatJet_subjet1_phi', \\\n",
    "             'FatJet_subjet1_Proba', 'FatJet_subjet1_tau1', 'FatJet_subjet1_tau2', \\\n",
    "             'FatJet_subjet1_tau3', 'FatJet_subjet1_tau4', 'FatJet_subjet1_n2b1', 'FatJet_subjet1_n3b1', \\\n",
    "            ]\n",
    "\n",
    "# variables: subjet 2\n",
    "features += ['FatJet_subjet2_pt', 'FatJet_subjet2_eta', 'FatJet_subjet2_phi', \\\n",
    "             'FatJet_subjet2_Proba', 'FatJet_subjet2_tau1', 'FatJet_subjet2_tau2', \\\n",
    "             'FatJet_subjet2_tau3', 'FatJet_subjet2_tau4', 'FatJet_subjet2_n2b1', 'FatJet_subjet2_n3b1', \\\n",
    "            ]\n",
    "\n",
    "# # variables: fatjet sv\n",
    "# features += ['FatJet_sv_costhetasvpv', 'FatJet_sv_d3dsig', 'FatJet_sv_deltaR', 'FatJet_sv_dxysig', \\\n",
    "#              'FatJet_sv_enration', 'FatJet_sv_normchi2', 'FatJet_sv_ntracks', 'FatJet_sv_phirel', \\\n",
    "#              'FatJet_sv_pt', 'FatJet_sv_ptrel', \\\n",
    "#             ]\n",
    "\n",
    "features = sorted(features)\n",
    "\n",
    "root_dir = \"/eos/user/a/afriberg/datasets/QCD_samples/\"\n",
    "\n",
    "dirs = os.listdir(root_dir)\n",
    "\n",
    "first_file = dirs.pop(0)\n",
    "while \".root\" not in first_file:\n",
    "    first_file = dirs.pop(0)\n",
    "\n",
    "first_file = root_dir + first_file\n",
    "df = get_df(first_file, '*')\n",
    "# Select a particular type of particle 0 means QCD\n",
    "df.query(\"FatJet_gen_hadronFlavour == 0\", inplace=True)\n",
    "df.dropna(inplace=True)\n",
    "df = df[features]\n",
    "# Prior to this, df is a pandas dataframe\n",
    "X = df.to_numpy().astype(np.float32)\n",
    "print(np.shape(X))\n",
    "\n",
    "\n",
    "for inputfile in dirs:\n",
    "    if \".root\" not in inputfile:\n",
    "        continue\n",
    "    inputfile = root_dir + inputfile\n",
    "    df = get_df(inputfile, '*')\n",
    "    df.dropna(inplace=True)\n",
    "    df = df[features]\n",
    "    # Prior to this, df is a pandas dataframe\n",
    "    next_data = df.to_numpy().astype(np.float32)\n",
    "    print(f\"next data has shape {np.shape(next_data)}\")\n",
    "    # appending it to the whole thing\n",
    "    X = np.append(X, next_data, axis=0)\n",
    "\n",
    "print(f\"X has shape {np.shape(X)}\")"
   ]
  },
  {
   "cell_type": "markdown",
   "id": "pursuant-occupation",
   "metadata": {},
   "source": [
    "# Run this when you want to add HToBB Data to the tests"
   ]
  },
  {
   "cell_type": "code",
   "execution_count": 5,
   "id": "tropical-passage",
   "metadata": {},
   "outputs": [],
   "source": [
    "new_path = \"/eos/user/a/afriberg/datasets/has_B/ZH_HToBB_ZToLL_M125_13TeV_powheg_pythia8.root\"\n",
    "df = get_df(new_path, '*')\n",
    "# Select a particular type of particle 4 means Charm 5 means B quark?\n",
    "df.query(\"FatJet_gen_hadronFlavour == 5\", inplace=True)\n",
    "\n",
    "df.dropna(inplace=True)\n",
    "df = df[features]\n",
    "\n",
    "new_X = df.to_numpy()\n",
    "new_X = new_X.astype(\"float32\")"
   ]
  },
  {
   "cell_type": "markdown",
   "id": "young-trigger",
   "metadata": {},
   "source": [
    "This scales the HToBB data and the QCD data together, and then splits them in two parts afterwards"
   ]
  },
  {
   "cell_type": "code",
   "execution_count": 6,
   "id": "several-middle",
   "metadata": {},
   "outputs": [
    {
     "name": "stdout",
     "output_type": "stream",
     "text": [
      "X now has shape (1906786, 59)\n",
      " new_X now has shape (23350, 59)\n"
     ]
    }
   ],
   "source": [
    "# num_new = np.size(new_X, axis=0)\n",
    "# X = np.append(X, new_X, axis=0)\n",
    "# print(f\"new_X has shape {np.shape(new_X)}\\nX has shape {np.shape(X)}\")\n",
    "# print(np.allclose(X[-num_new:, :], new_X))\n",
    "\n",
    "# Scale our data using a MinMaxScaler that will scale\n",
    "# each number so that it will be between 0 and 1\n",
    "scaler = MinMaxScaler()\n",
    "qcd_data = scaler.fit_transform(X)\n",
    "bb_data = scaler.transform(new_X)\n",
    "\n",
    "print(f\"X now has shape {np.shape(X)}\\n new_X now has shape {np.shape(new_X)}\")"
   ]
  },
  {
   "cell_type": "code",
   "execution_count": 7,
   "id": "distant-consultancy",
   "metadata": {},
   "outputs": [],
   "source": [
    "# X_qcd = []\n",
    "# X_bb = []\n",
    "# scaler.fit_transform(X_qcd)\n",
    "# scaler.transform(x)\n",
    "# print(bb_data[np.argmax(bb_data, axis=0)])"
   ]
  },
  {
   "cell_type": "markdown",
   "id": "negative-humor",
   "metadata": {},
   "source": [
    "## Run this regardless of presence or lack of HToBB data"
   ]
  },
  {
   "cell_type": "code",
   "execution_count": 8,
   "id": "psychological-peter",
   "metadata": {},
   "outputs": [
    {
     "name": "stdout",
     "output_type": "stream",
     "text": [
      "59\n"
     ]
    }
   ],
   "source": [
    "x_train, x_test = train_test_split(qcd_data, test_size=0.20)\n",
    "original_dim = np.size(qcd_data, axis=1)\n",
    "print(original_dim)"
   ]
  },
  {
   "cell_type": "code",
   "execution_count": 9,
   "id": "listed-studio",
   "metadata": {},
   "outputs": [],
   "source": [
    "batch_size = 32\n",
    "\n",
    "def build_dset(df): \n",
    "    df = df.copy()\n",
    "    dataset = tf.data.Dataset.from_tensor_slices((df, df))\n",
    "    dataset = dataset.batch(batch_size, drop_remainder=True)\n",
    "    dataset = dataset.prefetch(tf.data.experimental.AUTOTUNE)\n",
    "    return dataset\n",
    "    \n",
    "x_train_dataset = build_dset(x_train)\n",
    "x_test_dataset = build_dset(x_test)"
   ]
  },
  {
   "cell_type": "markdown",
   "id": "dressed-ridge",
   "metadata": {},
   "source": [
    "### loss function"
   ]
  },
  {
   "cell_type": "code",
   "execution_count": 10,
   "id": "spoken-joyce",
   "metadata": {},
   "outputs": [],
   "source": [
    "class Sampling(layers.Layer):\n",
    "    \"\"\"Uses (z_mean, z_log_var) to sample z, the encoding vector.\"\"\"\n",
    "\n",
    "    def call(self, inputs):\n",
    "        z_mean, z_log_var = inputs\n",
    "        batch = tf.shape(z_mean)[0]\n",
    "        dim = tf.shape(z_mean)[1]\n",
    "        epsilon = tf.keras.backend.random_normal(shape=(batch, dim))\n",
    "        return z_mean + tf.exp(0.5 * z_log_var) * epsilon"
   ]
  },
  {
   "cell_type": "markdown",
   "id": "extra-fighter",
   "metadata": {},
   "source": [
    "### build model"
   ]
  },
  {
   "cell_type": "code",
   "execution_count": 11,
   "id": "deluxe-handbook",
   "metadata": {},
   "outputs": [],
   "source": [
    "def get_encoder(original_dim, latent_dim):\n",
    "    # Encoder\n",
    "    encoder_inputs = layers.Input(shape=(original_dim,))\n",
    "    h = layers.Dense(32, activation='relu')(encoder_inputs)\n",
    "    h = layers.Dense(16, activation='relu')(h)\n",
    "    h = layers.Dense(8, activation='relu')(h)\n",
    "    h = layers.Dense(latent_dim, activation='sigmoid')(h)\n",
    "    z_mu = layers.Dense(latent_dim, name=\"z_mean\")(h)\n",
    "    z_log_var = layers.Dense(latent_dim, name=\"z_log_var\")(h)\n",
    "    z = Sampling()([z_mu, z_log_var])\n",
    "    \n",
    "    encoder = Model(encoder_inputs, [z_mu, z_log_var, z], name=\"encoder\")\n",
    "    return encoder\n",
    "    \n",
    "def get_decoder(original_dim, latent_dim):\n",
    "    decoder_inputs = layers.Input(shape=(latent_dim,))\n",
    "    d = layers.Dense(8, activation='relu')(decoder_inputs)\n",
    "    d = layers.Dense(16, activation='relu')(d)\n",
    "    d = layers.Dense(32, activation='relu')(d)\n",
    "    d = layers.Dense(original_dim, activation='softmax')(d)\n",
    "    \n",
    "    decoder = Model(decoder_inputs, d, name=\"decoder\")\n",
    "    return decoder\n",
    "\n",
    "class vae(Model):\n",
    "    def __init__(self, encoder, decoder, verbose=True, **kwargs):\n",
    "        super(vae, self).__init__(**kwargs)\n",
    "        self.encoder = encoder\n",
    "        self.decoder = decoder\n",
    "        self.total_loss_tracker = tf.keras.metrics.Mean(name=\"total_loss\")\n",
    "        self.reconstruction_loss_tracker = tf.keras.metrics.Mean(\n",
    "            name=\"reconstruction_loss\"\n",
    "        )\n",
    "        self.kl_loss_tracker = tf.keras.metrics.Mean(name=\"kl_loss\")\n",
    "        \n",
    "        if verbose:\n",
    "            self.encoder.summary()\n",
    "            self.decoder.summary()\n",
    "\n",
    "    @property\n",
    "    def metrics(self):\n",
    "        return [\n",
    "            self.total_loss_tracker,\n",
    "            self.reconstruction_loss_tracker,\n",
    "            self.kl_loss_tracker,\n",
    "        ]\n",
    "\n",
    "    def train_step(self, data):\n",
    "        with tf.GradientTape() as tape:\n",
    "            z_mean, z_log_var, z = self.encoder(data)\n",
    "            reconstruction = self.decoder(z)\n",
    "            reconstruction_loss = tf.reduce_mean(\n",
    "                tf.reduce_sum(\n",
    "                    tf.keras.losses.binary_crossentropy(data, reconstruction), axis=-1\n",
    "                )\n",
    "            )\n",
    "            kl_loss = -0.5 * (1 + z_log_var - tf.square(z_mean) - tf.exp(z_log_var))\n",
    "            kl_loss = tf.reduce_mean(tf.reduce_sum(kl_loss, axis=1))\n",
    "            total_loss = reconstruction_loss + kl_loss\n",
    "        grads = tape.gradient(total_loss, self.encoder.trainable_weights + self.decoder.trainable_weights)\n",
    "        self.optimizer.apply_gradients(zip(grads, self.encoder.trainable_weights + self.decoder.trainable_weights))\n",
    "        self.total_loss_tracker.update_state(total_loss)\n",
    "        self.reconstruction_loss_tracker.update_state(reconstruction_loss)\n",
    "        self.kl_loss_tracker.update_state(kl_loss)\n",
    "        return {\n",
    "            \"loss\": self.total_loss_tracker.result(),\n",
    "            \"reconstruction_loss\": self.reconstruction_loss_tracker.result(),\n",
    "            \"kl_loss\": self.kl_loss_tracker.result(),\n",
    "        }\n",
    "    \n",
    "    def call(self, data):\n",
    "        z_mean, z_log_var, z = self.encoder(data)\n",
    "        y_pred = self.decoder(z)\n",
    "        return y_pred "
   ]
  },
  {
   "cell_type": "markdown",
   "id": "straight-bunch",
   "metadata": {},
   "source": [
    "### get model"
   ]
  },
  {
   "cell_type": "code",
   "execution_count": 12,
   "id": "complete-roads",
   "metadata": {},
   "outputs": [
    {
     "name": "stdout",
     "output_type": "stream",
     "text": [
      "Model: \"encoder\"\n",
      "__________________________________________________________________________________________________\n",
      "Layer (type)                    Output Shape         Param #     Connected to                     \n",
      "==================================================================================================\n",
      "input_1 (InputLayer)            [(None, 59)]         0                                            \n",
      "__________________________________________________________________________________________________\n",
      "dense (Dense)                   (None, 32)           1920        input_1[0][0]                    \n",
      "__________________________________________________________________________________________________\n",
      "dense_1 (Dense)                 (None, 16)           528         dense[0][0]                      \n",
      "__________________________________________________________________________________________________\n",
      "dense_2 (Dense)                 (None, 8)            136         dense_1[0][0]                    \n",
      "__________________________________________________________________________________________________\n",
      "dense_3 (Dense)                 (None, 2)            18          dense_2[0][0]                    \n",
      "__________________________________________________________________________________________________\n",
      "z_mean (Dense)                  (None, 2)            6           dense_3[0][0]                    \n",
      "__________________________________________________________________________________________________\n",
      "z_log_var (Dense)               (None, 2)            6           dense_3[0][0]                    \n",
      "__________________________________________________________________________________________________\n",
      "sampling (Sampling)             (None, 2)            0           z_mean[0][0]                     \n",
      "                                                                 z_log_var[0][0]                  \n",
      "==================================================================================================\n",
      "Total params: 2,614\n",
      "Trainable params: 2,614\n",
      "Non-trainable params: 0\n",
      "__________________________________________________________________________________________________\n",
      "Model: \"decoder\"\n",
      "_________________________________________________________________\n",
      "Layer (type)                 Output Shape              Param #   \n",
      "=================================================================\n",
      "input_2 (InputLayer)         [(None, 2)]               0         \n",
      "_________________________________________________________________\n",
      "dense_4 (Dense)              (None, 8)                 24        \n",
      "_________________________________________________________________\n",
      "dense_5 (Dense)              (None, 16)                144       \n",
      "_________________________________________________________________\n",
      "dense_6 (Dense)              (None, 32)                544       \n",
      "_________________________________________________________________\n",
      "dense_7 (Dense)              (None, 59)                1947      \n",
      "=================================================================\n",
      "Total params: 2,659\n",
      "Trainable params: 2,659\n",
      "Non-trainable params: 0\n",
      "_________________________________________________________________\n"
     ]
    }
   ],
   "source": [
    "latent_dim = 2\n",
    "\n",
    "with strategy.scope():\n",
    "    encoder = get_encoder(original_dim, latent_dim)\n",
    "    decoder = get_decoder(original_dim, latent_dim)\n",
    "    model = vae(encoder, decoder)\n",
    "    model.compile(optimizer=tf.keras.optimizers.Adam(1.e-3))\n",
    "    #model.compile(optimizer=tf.keras.optimizers.RMSprop())\n"
   ]
  },
  {
   "cell_type": "markdown",
   "id": "thorough-going",
   "metadata": {},
   "source": [
    "### train model"
   ]
  },
  {
   "cell_type": "code",
   "execution_count": null,
   "id": "finished-blame",
   "metadata": {},
   "outputs": [],
   "source": [
    "def get_lr_callback():\n",
    "    lr_start   = 0.000001\n",
    "    lr_max     = 0.01\n",
    "    lr_min     = 0.000001\n",
    "    lr_ramp_ep = 5\n",
    "    lr_sus_ep  = 10\n",
    "    lr_decay   = 0.8\n",
    "   \n",
    "    def lrfn(epoch):\n",
    "        if epoch < lr_ramp_ep:\n",
    "            lr = (lr_max - lr_start) / lr_ramp_ep * epoch + lr_start\n",
    "        elif epoch < lr_ramp_ep + lr_sus_ep:\n",
    "            lr = lr_max\n",
    "        else:\n",
    "            lr = (lr_max - lr_min) * lr_decay**(epoch - lr_ramp_ep - lr_sus_ep) + lr_min\n",
    "        return lr\n",
    "\n",
    "    lr_callback = tf.keras.callbacks.LearningRateScheduler(lrfn, verbose = True)\n",
    "    return lr_callback\n",
    "\n",
    "checkpoint_path = \"checkpoints/no_sv_vars.{epoch:05d}.hdf5\"\n",
    "# Create a callback that saves the model's weights\n",
    "cp_callback = tf.keras.callbacks.ModelCheckpoint(filepath=checkpoint_path,\n",
    "                                                 monitor = 'val_loss',\n",
    "                                                 save_weights_only=True,\n",
    "                                                 save_best_only=False,\n",
    "                                                 mode = 'min',\n",
    "                                                 verbose=1)\n",
    "\n",
    "num_epochs = 30\n",
    "\n",
    "history = model.fit(\n",
    "    x_train_dataset,\n",
    "    shuffle=True,\n",
    "    epochs=num_epochs,\n",
    "    batch_size=batch_size,\n",
    "    callbacks=[cp_callback]\n",
    "    #callbacks=[cp_callback, get_lr_callback()]\n",
    ")"
   ]
  },
  {
   "cell_type": "code",
   "execution_count": null,
   "id": "balanced-clock",
   "metadata": {},
   "outputs": [],
   "source": [
    "model.evaluate(x_test)\n",
    "predictions = model.predict(x_test)\n"
   ]
  },
  {
   "cell_type": "code",
   "execution_count": null,
   "id": "adjustable-tanzania",
   "metadata": {},
   "outputs": [],
   "source": [
    "print(history.history.keys())\n",
    "plt.plot(history.history[\"loss\"])\n",
    "plt.show()\n",
    "\n",
    "plt.plot(history.history[\"loss\"][12:])\n",
    "plt.show()"
   ]
  },
  {
   "cell_type": "markdown",
   "id": "monetary-surname",
   "metadata": {},
   "source": [
    "# Loading a model from a checkpoint"
   ]
  },
  {
   "cell_type": "code",
   "execution_count": 13,
   "id": "large-copper",
   "metadata": {},
   "outputs": [
    {
     "name": "stdout",
     "output_type": "stream",
     "text": [
      "Model: \"encoder\"\n",
      "__________________________________________________________________________________________________\n",
      "Layer (type)                    Output Shape         Param #     Connected to                     \n",
      "==================================================================================================\n",
      "input_3 (InputLayer)            [(None, 59)]         0                                            \n",
      "__________________________________________________________________________________________________\n",
      "dense_8 (Dense)                 (None, 32)           1920        input_3[0][0]                    \n",
      "__________________________________________________________________________________________________\n",
      "dense_9 (Dense)                 (None, 16)           528         dense_8[0][0]                    \n",
      "__________________________________________________________________________________________________\n",
      "dense_10 (Dense)                (None, 8)            136         dense_9[0][0]                    \n",
      "__________________________________________________________________________________________________\n",
      "dense_11 (Dense)                (None, 2)            18          dense_10[0][0]                   \n",
      "__________________________________________________________________________________________________\n",
      "z_mean (Dense)                  (None, 2)            6           dense_11[0][0]                   \n",
      "__________________________________________________________________________________________________\n",
      "z_log_var (Dense)               (None, 2)            6           dense_11[0][0]                   \n",
      "__________________________________________________________________________________________________\n",
      "sampling_1 (Sampling)           (None, 2)            0           z_mean[0][0]                     \n",
      "                                                                 z_log_var[0][0]                  \n",
      "==================================================================================================\n",
      "Total params: 2,614\n",
      "Trainable params: 2,614\n",
      "Non-trainable params: 0\n",
      "__________________________________________________________________________________________________\n",
      "Model: \"decoder\"\n",
      "_________________________________________________________________\n",
      "Layer (type)                 Output Shape              Param #   \n",
      "=================================================================\n",
      "input_4 (InputLayer)         [(None, 2)]               0         \n",
      "_________________________________________________________________\n",
      "dense_12 (Dense)             (None, 8)                 24        \n",
      "_________________________________________________________________\n",
      "dense_13 (Dense)             (None, 16)                144       \n",
      "_________________________________________________________________\n",
      "dense_14 (Dense)             (None, 32)                544       \n",
      "_________________________________________________________________\n",
      "dense_15 (Dense)             (None, 59)                1947      \n",
      "=================================================================\n",
      "Total params: 2,659\n",
      "Trainable params: 2,659\n",
      "Non-trainable params: 0\n",
      "_________________________________________________________________\n",
      "11918/11918 [==============================] - 8s 686us/step - total_loss: 0.0000e+00 - reconstruction_loss: 0.0000e+00 - kl_loss: 0.0000e+00\n"
     ]
    }
   ],
   "source": [
    "latent_dim = 2\n",
    "encoder = get_encoder(original_dim, latent_dim)\n",
    "decoder = get_decoder(original_dim, latent_dim)\n",
    "model = vae(encoder, decoder)\n",
    "model.compile(optimizer=tf.keras.optimizers.Adam(1.e-3))\n",
    "model.evaluate(x_test)\n",
    "model.load_weights(\"no_sv_vars_checkpoints/no_sv_vars.00030.hdf5\")"
   ]
  },
  {
   "cell_type": "markdown",
   "id": "shared-industry",
   "metadata": {},
   "source": [
    "# Plotting the test data errors"
   ]
  },
  {
   "cell_type": "code",
   "execution_count": null,
   "id": "alleged-headline",
   "metadata": {},
   "outputs": [],
   "source": [
    "predict = model.predict(x_test)\n",
    "err = np.mean(np.abs(predict - x_test), axis=1)\n",
    "print(np.shape(err))\n",
    "\n",
    "bins = np.linspace(0, 0.4, 1000)\n",
    "# plt.hist(err, density=True)\n",
    "plt.hist(err, density=True, bins=bins)\n",
    "plt.xlabel(\"Mean Absolute Error\")\n",
    "plt.ylabel(\"Number of events (density)\")\n",
    "# Getting the name of the file we ran on\n",
    "plt.title(\"Aggregate QCD Data\")\n",
    "plt.show()\n"
   ]
  },
  {
   "cell_type": "markdown",
   "id": "surrounded-twins",
   "metadata": {},
   "source": [
    "## Trying to predict BB quarks"
   ]
  },
  {
   "cell_type": "markdown",
   "id": "international-category",
   "metadata": {},
   "source": [
    "Adding all of the data together"
   ]
  },
  {
   "cell_type": "code",
   "execution_count": null,
   "id": "union-guess",
   "metadata": {},
   "outputs": [],
   "source": [
    "qcd_label = np.zeros(shape=(np.size(new_X, axis=0), 1))\n",
    "bb_label = np.ones(shape=(np.size(x_test, axis=0), 1))\n",
    "\n",
    "print(np.shape(new_X))\n",
    "qcd_true = np.hstack((new_X, qcd_label))\n",
    "print(np.shape(qcd_true))\n",
    "\n",
    "print(np.shape(x_test))\n",
    "bb_true = np.hstack((x_test, bb_label))\n",
    "print(np.shape(bb_true))"
   ]
  },
  {
   "cell_type": "markdown",
   "id": "marine-green",
   "metadata": {},
   "source": [
    "Putting all of the data in one place"
   ]
  },
  {
   "cell_type": "code",
   "execution_count": null,
   "id": "front-nickname",
   "metadata": {},
   "outputs": [],
   "source": [
    "# Put all the data together and randomize it\n",
    "total_matrix = np.append(bb_true, qcd_true, axis=0)\n",
    "np.random.shuffle(total_matrix)\n",
    "print(np.shape(total_matrix))\n",
    "# Making test data with the correct labels (whether its a b quark or not)\n",
    "test_matrix = total_matrix[:, :original_dim]\n",
    "test_labels = total_matrix[:, original_dim]\n",
    "print(np.shape(test_matrix))"
   ]
  },
  {
   "cell_type": "markdown",
   "id": "charming-underground",
   "metadata": {},
   "source": [
    "Getting the error for every prediction"
   ]
  },
  {
   "cell_type": "code",
   "execution_count": null,
   "id": "residential-sally",
   "metadata": {},
   "outputs": [],
   "source": [
    "predict = model.predict(test_matrix)\n",
    "diff = test_matrix - predict\n",
    "mae_err = np.mean(np.abs(diff), axis = 1)\n",
    "sq_err = np.mean(np.square(diff), axis = 1)"
   ]
  },
  {
   "cell_type": "code",
   "execution_count": null,
   "id": "dangerous-syntax",
   "metadata": {},
   "outputs": [],
   "source": [
    "print(mae_err[np.argmax(mae_err)])\n",
    "print(mae_err[np.argmin(mae_err)])\n",
    "\n",
    "bins = 20\n",
    "bins = np.linspace(0, 25, 100)\n",
    "plt.hist(mae_err, bins=bins, alpha=0.5, label=\"MAE Error\", density=True)\n",
    "plt.hist(sq_err, bins=bins, alpha=0.5, label=\"Mean Square Error\", density=True)\n",
    "plt.show()"
   ]
  },
  {
   "cell_type": "markdown",
   "id": "multiple-dover",
   "metadata": {},
   "source": [
    "### Plotting the latent space distribution"
   ]
  },
  {
   "cell_type": "code",
   "execution_count": null,
   "id": "lesbian-breathing",
   "metadata": {},
   "outputs": [],
   "source": [
    "encoder = model.encoder\n",
    "z_mean, z_log_var, z = encoder.predict(test_matrix)"
   ]
  },
  {
   "cell_type": "code",
   "execution_count": null,
   "id": "documentary-twins",
   "metadata": {},
   "outputs": [],
   "source": [
    "plt.scatter(z[0], z[1])\n",
    "plt.show()"
   ]
  },
  {
   "cell_type": "markdown",
   "id": "early-importance",
   "metadata": {},
   "source": [
    "### Plotting ROC Curves"
   ]
  },
  {
   "cell_type": "code",
   "execution_count": null,
   "id": "genuine-oracle",
   "metadata": {},
   "outputs": [],
   "source": [
    "mae_fpr, mae_tpr, mae_threshold = roc_curve(test_labels, mae_err)\n",
    "sq_fpr, sq_tpr, sq_threshold = roc_curve(test_labels, sq_err)\n",
    "\n",
    "mae_auc = auc(mae_fpr, mae_tpr)\n",
    "sq_auc = auc(sq_fpr, sq_tpr)"
   ]
  },
  {
   "cell_type": "code",
   "execution_count": null,
   "id": "korean-homeless",
   "metadata": {},
   "outputs": [],
   "source": [
    "plt.figure(1)\n",
    "plt.plot([0, 1], [0, 1], 'k--')\n",
    "plt.plot(mae_fpr, mae_tpr, label=\"MAE\")\n",
    "# plt.plot(sq_fpr, sq_tpr, label=\"Mean Square Error\")\n",
    "plt.xlabel('False positive rate')\n",
    "plt.ylabel('True positive rate')\n",
    "plt.title('ROC curve')\n",
    "plt.legend()\n",
    "plt.show()"
   ]
  },
  {
   "cell_type": "code",
   "execution_count": 14,
   "id": "desirable-practice",
   "metadata": {},
   "outputs": [
    {
     "name": "stdout",
     "output_type": "stream",
     "text": [
      "Hey. We made it\n"
     ]
    }
   ],
   "source": [
    "print(\"Hey. We made it\")"
   ]
  },
  {
   "cell_type": "markdown",
   "id": "grateful-fourth",
   "metadata": {},
   "source": [
    "### Plotting BB error vs QCD error"
   ]
  },
  {
   "cell_type": "code",
   "execution_count": 15,
   "id": "visible-nigeria",
   "metadata": {},
   "outputs": [],
   "source": [
    "bb_predict = model.predict(new_X)\n",
    "qcd_predict = model.predict(X)\n",
    "bb_err = np.mean(np.abs(bb_predict, new_X), axis=1)\n",
    "qcd_err = np.mean(np.abs(qcd_predict, X), axis=1)"
   ]
  },
  {
   "cell_type": "code",
   "execution_count": 19,
   "id": "latest-kingston",
   "metadata": {},
   "outputs": [
    {
     "data": {
      "image/png": "[encoded data removed]",
      "text/plain": [
       "<Figure size 432x288 with 1 Axes>"
      ]
     },
     "metadata": {
      "needs_background": "light"
     },
     "output_type": "display_data"
    },
    {
     "data": {
      "image/png": "[encoded data removed]",
      "text/plain": [
       "<Figure size 432x288 with 1 Axes>"
      ]
     },
     "metadata": {
      "needs_background": "light"
     },
     "output_type": "display_data"
    }
   ],
   "source": [
    "bins=200\n",
    "bins = np.linspace(0, 0.02, 100)\n",
    "plt.hist(bb_err, bins=bins)\n",
    "plt.title(\"bb error\")\n",
    "plt.show()\n",
    "\n",
    "plt.hist(qcd_err, bins=bins)\n",
    "plt.title(\"qcd error\")\n",
    "plt.show()"
   ]
  },
  {
   "cell_type": "code",
   "execution_count": 23,
   "id": "legitimate-comparison",
   "metadata": {},
   "outputs": [
    {
     "data": {
      "image/png": "[encoded data removed]",
      "text/plain": [
       "<Figure size 432x288 with 1 Axes>"
      ]
     },
     "metadata": {
      "needs_background": "light"
     },
     "output_type": "display_data"
    }
   ],
   "source": [
    "bins=np.linspace(0.0125, 0.02, 100)\n",
    "alpha=0.5\n",
    "\n",
    "plt.hist(bb_err, density=True, bins=bins, label=\"BB Error\", alpha=alpha)\n",
    "plt.hist(qcd_err, density=True, bins=bins, label=\"QCD Error\", alpha=alpha)\n",
    "plt.title(\"Both errors\")\n",
    "plt.legend()\n",
    "plt.show()"
   ]
  },
  {
   "cell_type": "code",
   "execution_count": null,
   "id": "important-parent",
   "metadata": {},
   "outputs": [],
   "source": []
  }
 ],
 "metadata": {
  "kernelspec": {
   "display_name": "Python 3",
   "language": "python",
   "name": "python3"
  },
  "language_info": {
   "codemirror_mode": {
    "name": "ipython",
    "version": 3
   },
   "file_extension": ".py",
   "mimetype": "text/x-python",
   "name": "python",
   "nbconvert_exporter": "python",
   "pygments_lexer": "ipython3",
   "version": "3.8.6"
  }
 },
 "nbformat": 4,
 "nbformat_minor": 5
}
